{
 "cells": [
  {
   "cell_type": "markdown",
   "metadata": {},
   "source": [
    "文章核心：先实践后原理\n",
    "\n",
    "1. 创建机器学习算法列表\n",
    "2. 研究机器学习算法\n",
    "3. 增加你自己的算法描述\n",
    "   - 算法使用的标准缩写是什么？\n",
    "   - 算法的目标或目标是什么？\n",
    "   - 算法的伪代码或流程图描述是什么？\n",
    "   - 使用算法的启发式或经验法则是什么？\n",
    "   - 有用的资源是什么？\n",
    "   - 了解更多有关算法的信息？\n",
    "4. 观测算法行为\n",
    "5. 实现机器学习算法"
   ]
  },
  {
   "cell_type": "code",
   "execution_count": null,
   "metadata": {},
   "outputs": [],
   "source": []
  }
 ],
 "metadata": {
  "kernelspec": {
   "display_name": "Python 3",
   "language": "python",
   "name": "python3"
  },
  "language_info": {
   "codemirror_mode": {
    "name": "ipython",
    "version": 3
   },
   "file_extension": ".py",
   "mimetype": "text/x-python",
   "name": "python",
   "nbconvert_exporter": "python",
   "pygments_lexer": "ipython3",
   "version": "3.5.2"
  }
 },
 "nbformat": 4,
 "nbformat_minor": 2
}
